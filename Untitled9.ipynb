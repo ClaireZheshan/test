{
 "cells": [
  {
   "cell_type": "code",
   "execution_count": 1,
   "metadata": {},
   "outputs": [
    {
     "name": "stderr",
     "output_type": "stream",
     "text": [
      "/Users/xiaozheshan/anaconda3/lib/python3.6/site-packages/sklearn/cross_validation.py:41: DeprecationWarning: This module was deprecated in version 0.18 in favor of the model_selection module into which all the refactored classes and functions are moved. Also note that the interface of the new CV iterators are different from that of this module. This module will be removed in 0.20.\n",
      "  \"This module will be removed in 0.20.\", DeprecationWarning)\n"
     ]
    }
   ],
   "source": [
    "import pandas as pd\n",
    "import matplotlib.pyplot as plt\n",
    "import seaborn as sns\n",
    "import numpy as np\n",
    "import itertools\n",
    "plt.style.use('fivethirtyeight')\n",
    "import os, subprocess\n",
    "cwd = os.getcwd()\n",
    "proc = subprocess.Popen([\"ls\" ,\"../input\"], cwd=cwd, stdout=subprocess.PIPE)\n",
    "output = proc.stdout.read().decode(\"utf8\")\n",
    "diab=pd.read_csv('/Users/xiaozheshan/Downloads/diabetes.csv')\n",
    "from sklearn import svm\n",
    "from sklearn.neighbors import KNeighborsClassifier\n",
    "from sklearn.tree import DecisionTreeClassifier\n",
    "from sklearn.model_selection import train_test_split\n",
    "from sklearn.cross_validation import KFold\n",
    "from sklearn.linear_model import LogisticRegression\n",
    "from sklearn import metrics\n",
    "import warnings\n",
    "warnings.filterwarnings('ignore')\n",
    "outcome=diab['Outcome']\n",
    "data=diab[diab.columns[:8]]\n",
    "train,test=train_test_split(diab,test_size=0.25,random_state=0,stratify=diab['Outcome'])# stratify the outcome\n",
    "train_X=train[train.columns[:8]]\n",
    "test_X=test[test.columns[:8]]\n",
    "train_Y=train['Outcome']\n",
    "test_Y=test['Outcome']"
   ]
  },
  {
   "cell_type": "code",
   "execution_count": 3,
   "metadata": {
    "collapsed": true
   },
   "outputs": [],
   "source": [
    "from sklearn.metrics import accuracy_score\n",
    "import timeit"
   ]
  },
  {
   "cell_type": "code",
   "execution_count": 7,
   "metadata": {},
   "outputs": [
    {
     "data": {
      "text/html": [
       "<div>\n",
       "<style>\n",
       "    .dataframe thead tr:only-child th {\n",
       "        text-align: right;\n",
       "    }\n",
       "\n",
       "    .dataframe thead th {\n",
       "        text-align: left;\n",
       "    }\n",
       "\n",
       "    .dataframe tbody tr th {\n",
       "        vertical-align: top;\n",
       "    }\n",
       "</style>\n",
       "<table border=\"1\" class=\"dataframe\">\n",
       "  <thead>\n",
       "    <tr style=\"text-align: right;\">\n",
       "      <th></th>\n",
       "      <th>0</th>\n",
       "      <th>Accuracy</th>\n",
       "      <th>Time</th>\n",
       "    </tr>\n",
       "  </thead>\n",
       "  <tbody>\n",
       "    <tr>\n",
       "      <th>Linear Svm</th>\n",
       "      <td>0.770833</td>\n",
       "      <td>0.770833</td>\n",
       "      <td>2.165886</td>\n",
       "    </tr>\n",
       "    <tr>\n",
       "      <th>Radial Svm</th>\n",
       "      <td>0.651042</td>\n",
       "      <td>0.651042</td>\n",
       "      <td>0.014504</td>\n",
       "    </tr>\n",
       "    <tr>\n",
       "      <th>Logistic Regression</th>\n",
       "      <td>0.776042</td>\n",
       "      <td>0.776042</td>\n",
       "      <td>0.002976</td>\n",
       "    </tr>\n",
       "    <tr>\n",
       "      <th>KNN</th>\n",
       "      <td>0.729167</td>\n",
       "      <td>0.729167</td>\n",
       "      <td>0.001473</td>\n",
       "    </tr>\n",
       "    <tr>\n",
       "      <th>Decision Tree</th>\n",
       "      <td>0.760417</td>\n",
       "      <td>0.765625</td>\n",
       "      <td>0.003312</td>\n",
       "    </tr>\n",
       "  </tbody>\n",
       "</table>\n",
       "</div>"
      ],
      "text/plain": [
       "                            0  Accuracy      Time\n",
       "Linear Svm           0.770833  0.770833  2.165886\n",
       "Radial Svm           0.651042  0.651042  0.014504\n",
       "Logistic Regression  0.776042  0.776042  0.002976\n",
       "KNN                  0.729167  0.729167  0.001473\n",
       "Decision Tree        0.760417  0.765625  0.003312"
      ]
     },
     "execution_count": 7,
     "metadata": {},
     "output_type": "execute_result"
    }
   ],
   "source": [
    "abc=[]\n",
    "Time=[]\n",
    "classifiers=['Linear Svm','Radial Svm','Logistic Regression','KNN','Decision Tree']\n",
    "models=[svm.SVC(kernel='linear'),svm.SVC(kernel='rbf'),LogisticRegression(),KNeighborsClassifier(n_neighbors=3),DecisionTreeClassifier()]\n",
    "for i in models:\n",
    "    model = i\n",
    "    start_time=timeit.default_timer()\n",
    "    model.fit(train_X,train_Y)\n",
    "    prediction=model.predict(test_X)\n",
    "    elapsed = timeit.default_timer() - start_time\n",
    "    Time.append(elapsed)\n",
    "    abc.append(metrics.accuracy_score(prediction,test_Y))\n",
    "#models_dataframe=pd.DataFrame(abc,index=classifiers)   \n",
    "models_dataframe['Accuracy']=pd.DataFrame(abc,index=classifiers)\n",
    "#models_dataframe=pd.DataFrame(Time,index=classifiers)   \n",
    "models_dataframe['Time']=pd.DataFrame(Time,index=classifiers)\n",
    "models_dataframe"
   ]
  },
  {
   "cell_type": "code",
   "execution_count": 8,
   "metadata": {
    "collapsed": true
   },
   "outputs": [],
   "source": [
    "diab2=diab[['Glucose','BMI','Age','DiabetesPedigreeFunction','Outcome']]\n",
    "from sklearn.preprocessing import StandardScaler #Standardisation\n",
    "features=diab2[diab2.columns[:4]]\n",
    "features_standard=StandardScaler().fit_transform(features)# Gaussian Standardisation\n",
    "x=pd.DataFrame(features_standard,columns=[['Glucose','BMI','Age','DiabetesPedigreeFunction']])\n",
    "x['Outcome']=diab2['Outcome']\n",
    "outcome=x['Outcome']\n",
    "train1,test1=train_test_split(x,test_size=0.25,random_state=0,stratify=x['Outcome'])\n",
    "train_X1=train1[train1.columns[:4]]\n",
    "test_X1=test1[test1.columns[:4]]\n",
    "train_Y1=train1['Outcome']\n",
    "test_Y1=test1['Outcome']"
   ]
  },
  {
   "cell_type": "code",
   "execution_count": 48,
   "metadata": {},
   "outputs": [
    {
     "name": "stdout",
     "output_type": "stream",
     "text": [
      "             precision    recall  f1-score   support\n",
      "\n",
      "          0       0.80      0.89      0.84       125\n",
      "          1       0.74      0.58      0.65        67\n",
      "\n",
      "avg / total       0.78      0.78      0.77       192\n",
      "\n",
      "             precision    recall  f1-score   support\n",
      "\n",
      "          0       0.80      0.86      0.83       125\n",
      "          1       0.70      0.60      0.65        67\n",
      "\n",
      "avg / total       0.77      0.77      0.77       192\n",
      "\n",
      "             precision    recall  f1-score   support\n",
      "\n",
      "          0       0.80      0.88      0.84       125\n",
      "          1       0.72      0.58      0.64        67\n",
      "\n",
      "avg / total       0.77      0.78      0.77       192\n",
      "\n",
      "             precision    recall  f1-score   support\n",
      "\n",
      "          0       0.78      0.81      0.80       125\n",
      "          1       0.62      0.58      0.60        67\n",
      "\n",
      "avg / total       0.73      0.73      0.73       192\n",
      "\n",
      "             precision    recall  f1-score   support\n",
      "\n",
      "          0       0.79      0.80      0.80       125\n",
      "          1       0.62      0.61      0.62        67\n",
      "\n",
      "avg / total       0.73      0.73      0.73       192\n",
      "\n"
     ]
    },
    {
     "data": {
      "text/html": [
       "<div>\n",
       "<style>\n",
       "    .dataframe thead tr:only-child th {\n",
       "        text-align: right;\n",
       "    }\n",
       "\n",
       "    .dataframe thead th {\n",
       "        text-align: left;\n",
       "    }\n",
       "\n",
       "    .dataframe tbody tr th {\n",
       "        vertical-align: top;\n",
       "    }\n",
       "</style>\n",
       "<table border=\"1\" class=\"dataframe\">\n",
       "  <thead>\n",
       "    <tr style=\"text-align: right;\">\n",
       "      <th></th>\n",
       "      <th>0</th>\n",
       "      <th>New Accuracy</th>\n",
       "      <th>Accuracy</th>\n",
       "      <th>Increase</th>\n",
       "      <th>New Running time</th>\n",
       "      <th>Time</th>\n",
       "      <th>Up</th>\n",
       "    </tr>\n",
       "  </thead>\n",
       "  <tbody>\n",
       "    <tr>\n",
       "      <th>Linear Svm</th>\n",
       "      <td>0.781250</td>\n",
       "      <td>0.781250</td>\n",
       "      <td>0.770833</td>\n",
       "      <td>0.010417</td>\n",
       "      <td>0.007595</td>\n",
       "      <td>2.165886</td>\n",
       "      <td>-2.158292</td>\n",
       "    </tr>\n",
       "    <tr>\n",
       "      <th>Radial Svm</th>\n",
       "      <td>0.770833</td>\n",
       "      <td>0.770833</td>\n",
       "      <td>0.651042</td>\n",
       "      <td>0.119792</td>\n",
       "      <td>0.009805</td>\n",
       "      <td>0.014504</td>\n",
       "      <td>-0.004700</td>\n",
       "    </tr>\n",
       "    <tr>\n",
       "      <th>Logistic Regression</th>\n",
       "      <td>0.776042</td>\n",
       "      <td>0.776042</td>\n",
       "      <td>0.776042</td>\n",
       "      <td>0.000000</td>\n",
       "      <td>0.001082</td>\n",
       "      <td>0.002976</td>\n",
       "      <td>-0.001893</td>\n",
       "    </tr>\n",
       "    <tr>\n",
       "      <th>KNN</th>\n",
       "      <td>0.729167</td>\n",
       "      <td>0.729167</td>\n",
       "      <td>0.729167</td>\n",
       "      <td>0.000000</td>\n",
       "      <td>0.001911</td>\n",
       "      <td>0.001473</td>\n",
       "      <td>0.000438</td>\n",
       "    </tr>\n",
       "    <tr>\n",
       "      <th>Decision Tree</th>\n",
       "      <td>0.744792</td>\n",
       "      <td>0.734375</td>\n",
       "      <td>0.765625</td>\n",
       "      <td>-0.031250</td>\n",
       "      <td>0.001864</td>\n",
       "      <td>0.003312</td>\n",
       "      <td>-0.001448</td>\n",
       "    </tr>\n",
       "  </tbody>\n",
       "</table>\n",
       "</div>"
      ],
      "text/plain": [
       "                            0  New Accuracy  Accuracy  Increase  \\\n",
       "Linear Svm           0.781250      0.781250  0.770833  0.010417   \n",
       "Radial Svm           0.770833      0.770833  0.651042  0.119792   \n",
       "Logistic Regression  0.776042      0.776042  0.776042  0.000000   \n",
       "KNN                  0.729167      0.729167  0.729167  0.000000   \n",
       "Decision Tree        0.744792      0.734375  0.765625 -0.031250   \n",
       "\n",
       "                     New Running time      Time        Up  \n",
       "Linear Svm                   0.007595  2.165886 -2.158292  \n",
       "Radial Svm                   0.009805  0.014504 -0.004700  \n",
       "Logistic Regression          0.001082  0.002976 -0.001893  \n",
       "KNN                          0.001911  0.001473  0.000438  \n",
       "Decision Tree                0.001864  0.003312 -0.001448  "
      ]
     },
     "execution_count": 48,
     "metadata": {},
     "output_type": "execute_result"
    }
   ],
   "source": [
    "from sklearn.metrics import classification_report\n",
    "abc=[]\n",
    "Time=[]\n",
    "classifiers=['Linear Svm','Radial Svm','Logistic Regression','KNN','Decision Tree']\n",
    "models=[svm.SVC(kernel='linear'),svm.SVC(kernel='rbf'),LogisticRegression(),KNeighborsClassifier(n_neighbors=3),DecisionTreeClassifier()]\n",
    "for i in models:\n",
    "    model = i\n",
    "    start_time=timeit.default_timer()\n",
    "    model.fit(train_X1,train_Y1)\n",
    "    prediction=model.predict(test_X1)\n",
    "    elapsed = timeit.default_timer() - start_time\n",
    "    Time.append(elapsed)\n",
    "    abc.append(metrics.accuracy_score(prediction,test_Y1))\n",
    "    print(classification_report(test_Y,prediction,))\n",
    "    #new_models_dataframe=pd.DataFrame(abc,index=classifiers)   \n",
    "new_models_dataframe['New Accuracy']=pd.DataFrame(abc,index=classifiers)    \n",
    "new_models_dataframe['Accuracy']=models_dataframe['Accuracy']\n",
    "new_models_dataframe['Increase']=new_models_dataframe['New Accuracy']-new_models_dataframe['Accuracy']\n",
    "new_models_dataframe['New Running time']=pd.DataFrame(Time,index=classifiers)\n",
    "new_models_dataframe['Time']=models_dataframe['Time']\n",
    "new_models_dataframe['Up']=new_models_dataframe['New Running time']-new_models_dataframe['Time']\n",
    "new_models_dataframe"
   ]
  },
  {
   "cell_type": "code",
   "execution_count": 47,
   "metadata": {},
   "outputs": [
    {
     "name": "stdout",
     "output_type": "stream",
     "text": [
      "             precision    recall  f1-score   support\n",
      "\n",
      "          0       0.79      0.80      0.80       125\n",
      "          1       0.62      0.61      0.62        67\n",
      "\n",
      "avg / total       0.73      0.73      0.73       192\n",
      "\n"
     ]
    }
   ],
   "source": [
    "from sklearn.metrics import classification_report\n",
    "print(classification_report(test_Y,prediction,))"
   ]
  },
  {
   "cell_type": "code",
   "execution_count": 33,
   "metadata": {
    "scrolled": true
   },
   "outputs": [
    {
     "data": {
      "image/png": "[encoded data removed]",
      "text/plain": [
       "<matplotlib.figure.Figure at 0x10cf9c7b8>"
      ]
     },
     "metadata": {},
     "output_type": "display_data"
    }
   ],
   "source": [
    "import matplotlib.pyplot as plt\n",
    "import numpy as np\n",
    "%matplotlib inline\n",
    "Accuracy=new_models_dataframe['Accuracy']\n",
    "New_Accuracy=new_models_dataframe['New Accuracy']\n",
    "ind =  np.arange(5)   # the x locations for the groups\n",
    "#width = 0.5      # the width of the bars\n",
    "fig, ax = plt.subplots()\n",
    "rects1 = ax.bar(ind, Accuracy, color='r')\n",
    "#rects2 = ax.bar(ind + width, New_Accuracy, width, color='y')\n",
    "ax.set_ylabel('Accuracy')\n",
    "ax.set_title('Accuracy by Models and Selection Process')\n",
    "ax.set_xticks(ind + width)\n",
    "ax.set_xticklabels(new_models_dataframe.index)\n",
    "plt.show()"
   ]
  },
  {
   "cell_type": "code",
   "execution_count": 28,
   "metadata": {},
   "outputs": [
    {
     "data": {
      "image/png": "[encoded data removed]",
      "text/plain": [
       "<matplotlib.figure.Figure at 0x1a159462b0>"
      ]
     },
     "metadata": {},
     "output_type": "display_data"
    }
   ],
   "source": [
    "import matplotlib.pyplot as plt\n",
    "import numpy as np\n",
    "%matplotlib inline\n",
    "Accuracy=new_models_dataframe['Accuracy']\n",
    "New_Accuracy=new_models_dataframe['New Accuracy']\n",
    "ind =  np.arange(5)   # the x locations for the groups\n",
    "width = 0      # the width of the bars\n",
    "fig, ax = plt.subplots()\n",
    "#rects1 = ax.bar(ind, Accuracy, color='r')\n",
    "rects2 = ax.bar(ind, New_Accuracy, color='y')\n",
    "ax.set_ylabel('Accuracy')\n",
    "ax.set_title('Accuracy by Models and Selection Process')\n",
    "ax.set_xticks(ind)\n",
    "ax.set_xticklabels(new_models_dataframe.index)\n",
    "plt.show()"
   ]
  },
  {
   "cell_type": "code",
   "execution_count": 36,
   "metadata": {},
   "outputs": [
    {
     "data": {
      "image/png": "[encoded data removed]",
      "text/plain": [
       "<matplotlib.figure.Figure at 0x1a155e72e8>"
      ]
     },
     "metadata": {},
     "output_type": "display_data"
    }
   ],
   "source": [
    "import matplotlib.pyplot as plt\n",
    "import numpy as np\n",
    "%matplotlib inline\n",
    "Time=new_models_dataframe['Time']\n",
    "New_Time=new_models_dataframe['New Running time']\n",
    "ind =  np.arange(5)   # the x locations for the groups\n",
    "#width = 0.1       # the width of the bars\n",
    "fig, ax = plt.subplots()\n",
    "rects1 = ax.bar(ind, Time, width, color='r')\n",
    "#rects2 = ax.bar(ind + width, New_Time, width, color='y')\n",
    "ax.set_ylabel('Running Time')\n",
    "ax.set_title('Running Time by Models and Selection Process')\n",
    "ax.set_xticks(ind)\n",
    "ax.set_xticklabels(new_models_dataframe.index,rotation=45)\n",
    "plt.show()"
   ]
  },
  {
   "cell_type": "code",
   "execution_count": 35,
   "metadata": {},
   "outputs": [
    {
     "data": {
      "image/png": "[encoded data removed]",
      "text/plain": [
       "<matplotlib.figure.Figure at 0x10bcdce10>"
      ]
     },
     "metadata": {},
     "output_type": "display_data"
    }
   ],
   "source": [
    "import matplotlib.pyplot as plt\n",
    "import numpy as np\n",
    "%matplotlib inline\n",
    "Time=new_models_dataframe['Time']\n",
    "New_Time=new_models_dataframe['New Running time']\n",
    "ind =  np.arange(5)   # the x locations for the groups\n",
    "#width = 0.1       # the width of the bars\n",
    "fig, ax = plt.subplots()\n",
    "#rects1 = ax.bar(ind, Time, width, color='r')\n",
    "rects2 = ax.bar(ind, New_Time, width, color='y')\n",
    "ax.set_ylabel('Running Time')\n",
    "ax.set_title('Running Time by Models and Selection Process')\n",
    "ax.set_xticks(ind)\n",
    "ax.set_xticklabels(new_models_dataframe.index,rotation=45)\n",
    "plt.show()"
   ]
  },
  {
   "cell_type": "code",
   "execution_count": null,
   "metadata": {
    "collapsed": true
   },
   "outputs": [],
   "source": []
  }
 ],
 "metadata": {
  "kernelspec": {
   "display_name": "Python 3",
   "language": "python",
   "name": "python3"
  },
  "language_info": {
   "codemirror_mode": {
    "name": "ipython",
    "version": 3
   },
   "file_extension": ".py",
   "mimetype": "text/x-python",
   "name": "python",
   "nbconvert_exporter": "python",
   "pygments_lexer": "ipython3",
   "version": "3.6.3"
  }
 },
 "nbformat": 4,
 "nbformat_minor": 2
}
