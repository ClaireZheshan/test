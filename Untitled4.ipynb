{
 "cells": [
  {
   "cell_type": "code",
   "execution_count": 1,
   "metadata": {},
   "outputs": [
    {
     "ename": "SyntaxError",
     "evalue": "invalid syntax (<ipython-input-1-f36036229d7f>, line 10)",
     "output_type": "error",
     "traceback": [
      "\u001b[0;36m  File \u001b[0;32m\"<ipython-input-1-f36036229d7f>\"\u001b[0;36m, line \u001b[0;32m10\u001b[0m\n\u001b[0;31m    print \"nodes:\", G.nodes()      #输出全部的节点： [1, 2, 3]\u001b[0m\n\u001b[0m                 ^\u001b[0m\n\u001b[0;31mSyntaxError\u001b[0m\u001b[0;31m:\u001b[0m invalid syntax\n"
     ]
    }
   ],
   "source": [
    "#!-*- coding:utf8-*-\n",
    " \n",
    "import networkx as nx\n",
    "import matplotlib.pyplot as plt\n",
    "\n",
    "G = nx.Graph()                 #建立一个空的无向图G\n",
    "G.add_node(1)                  #添加一个节点1\n",
    "G.add_edge(2,3)                #添加一条边2-3（隐含着添加了两个节点2、3）\n",
    "G.add_edge(3,2)                #对于无向图，边3-2与边2-3被认为是一条边\n",
    "print \"nodes:\", %G.nodes()      #输出全部的节点： [1, 2, 3]\n",
    "print \"edges:\", %G.edges()      #输出全部的边：[(2, 3)]\n",
    "print \"number of edges:\", %G.number_of_edges()   #输出边的数量：1\n",
    "nx.draw(G)\n",
    "plt.savefig(\"wuxiangtu.png\")\n",
    "plt.show()"
   ]
  },
  {
   "cell_type": "code",
   "execution_count": 2,
   "metadata": {},
   "outputs": [
    {
     "ename": "SyntaxError",
     "evalue": "invalid syntax (<ipython-input-2-b1f43532d792>, line 10)",
     "output_type": "error",
     "traceback": [
      "\u001b[0;36m  File \u001b[0;32m\"<ipython-input-2-b1f43532d792>\"\u001b[0;36m, line \u001b[0;32m10\u001b[0m\n\u001b[0;31m    print \"nodes:\", %G.nodes()      #输出全部的节点： [1, 2, 3]\u001b[0m\n\u001b[0m                 ^\u001b[0m\n\u001b[0;31mSyntaxError\u001b[0m\u001b[0;31m:\u001b[0m invalid syntax\n"
     ]
    }
   ],
   "source": [
    "#!-*- coding:utf8-*-\n",
    " \n",
    "import networkx as nx\n",
    "import matplotlib.pyplot as plt\n",
    "\n",
    "G = nx.Graph()                 #建立一个空的无向图G\n",
    "G.add_node(1)                  #添加一个节点1\n",
    "G.add_edge(2,3)                #添加一条边2-3（隐含着添加了两个节点2、3）\n",
    "G.add_edge(3,2)                #对于无向图，边3-2与边2-3被认为是一条边\n",
    "print (\"nodes:\", G.nodes() )     #输出全部的节点： [1, 2, 3]\n",
    "print (\"edges:\", G.edges())      #输出全部的边：[(2, 3)]\n",
    "print (\"number of edges:\", %G.number_of_edges())   #输出边的数量：1\n",
    "nx.draw(G)\n",
    "plt.savefig(\"wuxiangtu.png\")\n",
    "plt.show()"
   ]
  },
  {
   "cell_type": "code",
   "execution_count": 3,
   "metadata": {},
   "outputs": [
    {
     "ename": "SyntaxError",
     "evalue": "invalid syntax (<ipython-input-3-28136e627337>, line 12)",
     "output_type": "error",
     "traceback": [
      "\u001b[0;36m  File \u001b[0;32m\"<ipython-input-3-28136e627337>\"\u001b[0;36m, line \u001b[0;32m12\u001b[0m\n\u001b[0;31m    print (\"number of edges:\", %G.number_of_edges())   #输出边的数量：1\u001b[0m\n\u001b[0m                               ^\u001b[0m\n\u001b[0;31mSyntaxError\u001b[0m\u001b[0;31m:\u001b[0m invalid syntax\n"
     ]
    }
   ],
   "source": [
    "#!-*- coding:utf8-*-\n",
    " \n",
    "import networkx as nx\n",
    "import matplotlib.pyplot as plt\n",
    "\n",
    "G = nx.Graph()                 #建立一个空的无向图G\n",
    "G.add_node(1)                  #添加一个节点1\n",
    "G.add_edge(2,3)                #添加一条边2-3（隐含着添加了两个节点2、3）\n",
    "G.add_edge(3,2)                #对于无向图，边3-2与边2-3被认为是一条边\n",
    "print (\"nodes:\", G.nodes() )     #输出全部的节点： [1, 2, 3]\n",
    "print (\"edges:\", G.edges())      #输出全部的边：[(2, 3)]\n",
    "print (\"number of edges:\", G.number_of_edges())   #输出边的数量：1\n",
    "nx.draw(G)\n",
    "plt.savefig(\"wuxiangtu.png\")\n",
    "plt.show()"
   ]
  },
  {
   "cell_type": "code",
   "execution_count": 4,
   "metadata": {},
   "outputs": [
    {
     "name": "stdout",
     "output_type": "stream",
     "text": [
      "nodes: [1, 2, 3]\n",
      "edges: [(2, 3)]\n",
      "number of edges: 1\n"
     ]
    },
    {
     "data": {
      "image/png": "[encoded data removed]",
      "text/plain": [
       "<matplotlib.figure.Figure at 0x150fbe2710>"
      ]
     },
     "metadata": {},
     "output_type": "display_data"
    }
   ],
   "source": [
    "#!-*- coding:utf8-*-\n",
    " \n",
    "import networkx as nx\n",
    "import matplotlib.pyplot as plt\n",
    "\n",
    "G = nx.Graph()                 #建立一个空的无向图G\n",
    "G.add_node(1)                  #添加一个节点1\n",
    "G.add_edge(2,3)                #添加一条边2-3（隐含着添加了两个节点2、3）\n",
    "G.add_edge(3,2)                #对于无向图，边3-2与边2-3被认为是一条边\n",
    "print (\"nodes:\", G.nodes() )     #输出全部的节点： [1, 2, 3]\n",
    "print (\"edges:\", G.edges())      #输出全部的边：[(2, 3)]\n",
    "print (\"number of edges:\", G.number_of_edges())   #输出边的数量：1\n",
    "nx.draw(G)\n",
    "plt.savefig(\"wuxiangtu.png\")\n",
    "plt.show()"
   ]
  },
  {
   "cell_type": "code",
   "execution_count": 5,
   "metadata": {},
   "outputs": [
    {
     "data": {
      "image/png": "[encoded data removed]",
      "text/plain": [
       "<matplotlib.figure.Figure at 0x150fbe2ba8>"
      ]
     },
     "metadata": {},
     "output_type": "display_data"
    }
   ],
   "source": [
    "#-*- coding:utf8-*-\n",
    " \n",
    "import networkx as nx\n",
    "import matplotlib.pyplot as plt\n",
    "G = nx.DiGraph()\n",
    "G.add_node(1)\n",
    "G.add_node(2)                  #加点\n",
    "G.add_nodes_from([3,4,5,6])    #加点集合\n",
    "G.add_cycle([1,2,3,4])         #加环\n",
    "G.add_edge(1,3)     \n",
    "G.add_edges_from([(3,5),(3,6),(6,7)])  #加边集合\n",
    "nx.draw(G)\n",
    "plt.savefig(\"youxiangtu.png\")\n",
    "plt.show()"
   ]
  },
  {
   "cell_type": "code",
   "execution_count": 6,
   "metadata": {},
   "outputs": [
    {
     "data": {
      "image/png": "[encoded data removed]",
      "text/plain": [
       "<matplotlib.figure.Figure at 0x1518033630>"
      ]
     },
     "metadata": {},
     "output_type": "display_data"
    }
   ],
   "source": [
    "import networkx as nx\n",
    "import matplotlib.pyplot as plt\n",
    "\n",
    "G = nx.DiGraph()\n",
    "G.add_node(1)\n",
    "G.add_node(2)\n",
    "G.add_nodes_from([3,4,5,6])\n",
    "G.add_cycle([1,2,3,4])\n",
    "G.add_edge(1,3)\n",
    "G.add_edges_from([(3,5),(3,6),(6,7)])\n",
    "G = G.to_undirected()\n",
    "nx.draw(G)\n",
    "plt.savefig(\"wuxiangtu.png\")\n",
    "plt.show()"
   ]
  },
  {
   "cell_type": "code",
   "execution_count": 7,
   "metadata": {},
   "outputs": [
    {
     "ename": "AttributeError",
     "evalue": "'dict' object has no attribute 'iteritems'",
     "output_type": "error",
     "traceback": [
      "\u001b[0;31m---------------------------------------------------------------------------\u001b[0m",
      "\u001b[0;31mAttributeError\u001b[0m                            Traceback (most recent call last)",
      "\u001b[0;32m<ipython-input-7-f00fb24ce0b2>\u001b[0m in \u001b[0;36m<module>\u001b[0;34m()\u001b[0m\n\u001b[1;32m     10\u001b[0m \u001b[0mroad_edges\u001b[0m \u001b[0;34m=\u001b[0m \u001b[0;34m[\u001b[0m\u001b[0;34m(\u001b[0m\u001b[0;34m'a'\u001b[0m\u001b[0;34m,\u001b[0m \u001b[0;34m'b'\u001b[0m\u001b[0;34m)\u001b[0m\u001b[0;34m,\u001b[0m \u001b[0;34m(\u001b[0m\u001b[0;34m'b'\u001b[0m\u001b[0;34m,\u001b[0m \u001b[0;34m'c'\u001b[0m\u001b[0;34m)\u001b[0m\u001b[0;34m]\u001b[0m\u001b[0;34m\u001b[0m\u001b[0m\n\u001b[1;32m     11\u001b[0m \u001b[0;34m\u001b[0m\u001b[0m\n\u001b[0;32m---> 12\u001b[0;31m \u001b[0mG\u001b[0m\u001b[0;34m.\u001b[0m\u001b[0madd_nodes_from\u001b[0m\u001b[0;34m(\u001b[0m\u001b[0mroad_nodes\u001b[0m\u001b[0;34m.\u001b[0m\u001b[0miteritems\u001b[0m\u001b[0;34m(\u001b[0m\u001b[0;34m)\u001b[0m\u001b[0;34m)\u001b[0m\u001b[0;34m\u001b[0m\u001b[0m\n\u001b[0m\u001b[1;32m     13\u001b[0m \u001b[0mG\u001b[0m\u001b[0;34m.\u001b[0m\u001b[0madd_edges_from\u001b[0m\u001b[0;34m(\u001b[0m\u001b[0mroad_edges\u001b[0m\u001b[0;34m)\u001b[0m\u001b[0;34m\u001b[0m\u001b[0m\n\u001b[1;32m     14\u001b[0m \u001b[0;34m\u001b[0m\u001b[0m\n",
      "\u001b[0;31mAttributeError\u001b[0m: 'dict' object has no attribute 'iteritems'"
     ]
    }
   ],
   "source": [
    "#-*- coding:utf8-*-\n",
    "\n",
    "import networkx as nx\n",
    "import matplotlib.pyplot as plt\n",
    "\n",
    "G = nx.DiGraph()\n",
    "\n",
    "road_nodes = {'a': 1, 'b': 2, 'c': 3}\n",
    "#road_nodes = {'a':{1:1}, 'b':{2:2}, 'c':{3:3}}\n",
    "road_edges = [('a', 'b'), ('b', 'c')]\n",
    "\n",
    "G.add_nodes_from(road_nodes.iteritems())\n",
    "G.add_edges_from(road_edges)\n",
    "\n",
    "nx.draw(G)\n",
    "plt.savefig(\"youxiangtu.png\")\n",
    "plt.show()"
   ]
  },
  {
   "cell_type": "code",
   "execution_count": 8,
   "metadata": {},
   "outputs": [
    {
     "ename": "IndentationError",
     "evalue": "unexpected indent (<ipython-input-8-6bd1d4177088>, line 4)",
     "output_type": "error",
     "traceback": [
      "\u001b[0;36m  File \u001b[0;32m\"<ipython-input-8-6bd1d4177088>\"\u001b[0;36m, line \u001b[0;32m4\u001b[0m\n\u001b[0;31m    data = [\"ACCTCCTAGAAG\", \"ACCTACTAGAAGTT\", \"GAATATTAGGCCGA\"] >>> def lev_metric(x, y):\u001b[0m\n\u001b[0m    ^\u001b[0m\n\u001b[0;31mIndentationError\u001b[0m\u001b[0;31m:\u001b[0m unexpected indent\n"
     ]
    }
   ],
   "source": [
    "from leven import levenshtein\n",
    "import numpy as np\n",
    "from sklearn.cluster import dbscan\n",
    " data = [\"ACCTCCTAGAAG\", \"ACCTACTAGAAGTT\", \"GAATATTAGGCCGA\"] >>> def lev_metric(x, y):\n",
    "i, j = int(x[0]), int(y[0]) # extract indices\n",
    " return levenshtein(data[i], data[j]) \n",
    "X = np.arange(len(data)).reshape(-1, 1) \n",
    "X\n",
    "array([[0],\n",
    "[1],\n",
    "[2]])\n",
    "dbscan(X, metric=lev_metric, eps=5, min_samples=2) ([0, 1], array([ 0, 0, -1]))"
   ]
  },
  {
   "cell_type": "code",
   "execution_count": null,
   "metadata": {
    "collapsed": true
   },
   "outputs": [],
   "source": []
  }
 ],
 "metadata": {
  "kernelspec": {
   "display_name": "Python 3",
   "language": "python",
   "name": "python3"
  },
  "language_info": {
   "codemirror_mode": {
    "name": "ipython",
    "version": 3
   },
   "file_extension": ".py",
   "mimetype": "text/x-python",
   "name": "python",
   "nbconvert_exporter": "python",
   "pygments_lexer": "ipython3",
   "version": "3.6.3"
  }
 },
 "nbformat": 4,
 "nbformat_minor": 2
}
