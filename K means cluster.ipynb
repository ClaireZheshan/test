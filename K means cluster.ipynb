{
 "cells": [
  {
   "cell_type": "code",
   "execution_count": 4,
   "metadata": {},
   "outputs": [
    {
     "name": "stdout",
     "output_type": "stream",
     "text": [
      "iteration: \n",
      "\n",
      "dataSet: \n",
      "\n",
      "centroids: \n",
      "\n",
      "minDist:\n",
      "minDist:\n",
      "minDist:\n",
      "minDist:\n",
      "iteration: \n",
      "\n",
      "dataSet: \n",
      "\n",
      "centroids: \n",
      "\n",
      "minDist:\n",
      "minDist:\n",
      "minDist:\n",
      "minDist:\n",
      "final result:\n",
      "[[ 1.  1.  1.]\n",
      " [ 2.  1.  1.]\n",
      " [ 4.  3.  2.]\n",
      " [ 5.  4.  2.]]\n"
     ]
    }
   ],
   "source": [
    "import numpy as np  \n",
    "  \n",
    "  \n",
    "# Function: K Means  \n",
    "# -------------  \n",
    "# K-Means is an algorithm that takes in a dataset and a constant  \n",
    "# k and returns k centroids (which define clusters of data in the  \n",
    "# dataset which are similar to one another).  \n",
    "  \n",
    "# 定义kmeans方法 （数据集，划分为k类，停止的条件）  \n",
    "def kmeans(X, k, maxIt):  \n",
    "      \n",
    "    numPoints, numDim = X.shape # 获取多少行（实例数） 多少列（维度）  \n",
    "      \n",
    "    dataSet = np.zeros((numPoints, numDim + 1))  \n",
    "    dataSet[:, :-1] = X  \n",
    "      \n",
    "    # Initialize centroids randomly 随机的初始化中心点  \n",
    "    centroids = dataSet[np.random.randint(numPoints, size = k), :]  \n",
    "    #random.randint(a,b)用于生成一个指定范围内的整数。其中参数a是下限，参数b是上限，此处指定了max和size  \n",
    "    #Randomly assign labels to initial centorid 分配标签  \n",
    "    centroids[:, -1] = range(1, k +1) #最后一列为label \n",
    "      \n",
    "    # Initialize book keeping vars.  \n",
    "    iterations = 0  \n",
    "    oldCentroids = None  \n",
    "      \n",
    "    # Run the main k-means algorithm  \n",
    "    while not shouldStop(oldCentroids, centroids, iterations, maxIt):  \n",
    "        print (\"iteration: \\n\"), iterations # 迭代次数  \n",
    "        print (\"dataSet: \\n\"), dataSet  \n",
    "        print (\"centroids: \\n\"), centroids  \n",
    "        # Save old centroids for convergence test. Book keeping.  \n",
    "        oldCentroids = np.copy(centroids)  \n",
    "        iterations += 1  \n",
    "          \n",
    "        # Assign labels to each datapoint based on centroids 更新归类  \n",
    "        updateLabels(dataSet, centroids)  \n",
    "          \n",
    "        # Assign centroids based on datapoint labels 更新中心点  \n",
    "        centroids = getCentroids(dataSet, k)  \n",
    "          \n",
    "    # We can get the labels too by calling getLabels(dataSet, centroids)  \n",
    "    return dataSet  \n",
    "  \n",
    "  \n",
    "# Function: Should Stop  \n",
    "# -------------  \n",
    "# Returns True or False if k-means is done. K-means terminates either  \n",
    "# because it has run a maximum number of iterations OR the centroids  \n",
    "# stop changing.  \n",
    "def shouldStop(oldCentroids, centroids, iterations, maxIt):  \n",
    "    if iterations > maxIt:  \n",
    "        return True  \n",
    "    return np.array_equal(oldCentroids, centroids)    \n",
    "  \n",
    "  \n",
    "# Function: Get Labels  \n",
    "# -------------  \n",
    "# Update a label for each piece of data in the dataset.   \n",
    "def updateLabels(dataSet, centroids):  \n",
    "    # For each element in the dataset, chose the closest centroid.   \n",
    "    # Make that centroid the element's label.  \n",
    "    numPoints, numDim = dataSet.shape  \n",
    "    for i in range(0, numPoints):  \n",
    "        dataSet[i, -1] = getLabelFromClosestCentroid(dataSet[i, :-1], centroids)  \n",
    "      \n",
    "# （数据集中的一行，中心点）    \n",
    "def getLabelFromClosestCentroid(dataSetRow, centroids):  \n",
    "    label = centroids[0, -1];  \n",
    "    minDist = np.linalg.norm(dataSetRow - centroids[0, :-1])  \n",
    "    for i in range(1 , centroids.shape[0]):  \n",
    "        dist = np.linalg.norm(dataSetRow - centroids[i, :-1])  \n",
    "        if dist < minDist:  \n",
    "            minDist = dist  \n",
    "            label = centroids[i, -1]  \n",
    "    print (\"minDist:\"), minDist  \n",
    "    return label  \n",
    "      \n",
    "          \n",
    "      \n",
    "# Function: Get Centroids  \n",
    "# -------------  \n",
    "# Returns k random centroids, each of dimension n.  \n",
    "def getCentroids(dataSet, k):  \n",
    "    # Each centroid is the geometric mean of the points that  \n",
    "    # have that centroid's label. Important: If a centroid is empty (no points have  \n",
    "    # that centroid's label) you should randomly re-initialize it.  \n",
    "    result = np.zeros((k, dataSet.shape[1]))  \n",
    "    for i in range(1, k + 1):  \n",
    "        oneCluster = dataSet[dataSet[:, -1] == i, :-1]  \n",
    "        result[i - 1, :-1] = np.mean(oneCluster, axis = 0)  \n",
    "        result[i - 1, -1] = i  \n",
    "      \n",
    "    return result  \n",
    "      \n",
    "      \n",
    "x1 = np.array([1, 1])  \n",
    "x2 = np.array([2, 1])  \n",
    "x3 = np.array([4, 3])  \n",
    "x4 = np.array([5, 4])  \n",
    "testX = np.vstack((x1, x2, x3, x4)) # 组成矩阵  \n",
    "  \n",
    "  \n",
    "result = kmeans(testX, 2, 10)  \n",
    "print (\"final result:\") \n",
    "print (result)"
   ]
  },
  {
   "cell_type": "code",
   "execution_count": 1,
   "metadata": {},
   "outputs": [
    {
     "name": "stdout",
     "output_type": "stream",
     "text": [
      "lable_pred: [1 0 2 2 1 1 2 2 0 2 2 2 2 1 0 0 0 1 2 0 2 2 2 0 0 2 1 0 1 2 0 2 0 2 0 2 2\n",
      " 2 2 1 1 1 1 0 0 1 1 0 2 1 1 2 0 1 2 0 2 1 0 1 1 0 2 1 0 0 2 1 2 1 1 1 1 0\n",
      " 1 0 2 2 0 2 0 1 2 0 1 2 2 1 1 1 2 0 2 2 0 2 2 2 1 1]\n",
      "centroids: [[ 0.18892532  0.36867795]\n",
      " [ 0.67276078  0.25905523]\n",
      " [ 0.5295614   0.79727542]]\n",
      "inertia: 6.08770597945\n"
     ]
    },
    {
     "data": {
      "image/png": "[encoded data removed]",
      "text/plain": [
       "<matplotlib.figure.Figure at 0x11ac2a898>"
      ]
     },
     "metadata": {},
     "output_type": "display_data"
    },
    {
     "name": "stdout",
     "output_type": "stream",
     "text": [
      "KMeans(algorithm='auto', copy_x=True, init='k-means++', max_iter=300,\n",
      "    n_clusters=3, n_init=10, n_jobs=1, precompute_distances='auto',\n",
      "    random_state=None, tol=0.0001, verbose=0)\n"
     ]
    },
    {
     "data": {
      "text/plain": [
       "\"'' \\nKMeans(algorithm='auto', copy_x=True, init='k-means++', max_iter=300, \\n    n_clusters=3, n_init=10, n_jobs=1, precompute_distances='auto', \\n    random_state=None, tol=0.0001, verbose=0) \\n\""
      ]
     },
     "execution_count": 1,
     "metadata": {},
     "output_type": "execute_result"
    }
   ],
   "source": [
    "# -*- coding: utf-8 -*-  \n",
    "\"\"\" \n",
    "@author: tz_zs \n",
    "sklearn.cluster.KMeans的使用2 \n",
    "\"\"\"  \n",
    "  \n",
    "from sklearn.cluster import KMeans  \n",
    "from sklearn.externals import joblib  \n",
    "import numpy as np  \n",
    "import matplotlib.pyplot as plt  \n",
    "  \n",
    "data = np.random.rand(100, 2)  \n",
    "estimator = KMeans(n_clusters=3)  \n",
    "res = estimator.fit_predict(data)  \n",
    "lable_pred = estimator.labels_  \n",
    "centroids = estimator.cluster_centers_  \n",
    "inertia = estimator.inertia_  \n",
    "  \n",
    "print(\"lable_pred:\", lable_pred)  \n",
    "print(\"centroids:\", centroids)  \n",
    "print(\"inertia:\", inertia)  \n",
    "  \n",
    "for i in range(len(data)):  \n",
    "    if int(lable_pred[i]) == 0:  \n",
    "        plt.scatter(data[i][0], data[i][1], color='red')  \n",
    "    if int(lable_pred[i]) == 1:  \n",
    "        plt.scatter(data[i][0], data[i][1], color='black')  \n",
    "    if int(lable_pred[i]) == 2:  \n",
    "        plt.scatter(data[i][0], data[i][1], color='blue')  \n",
    "  \n",
    "plt.show()  \n",
    "  \n",
    "#  保存机器学习算法模型  \n",
    "joblib.dump(value=estimator, filename=\"./km_model.m\")  \n",
    "load = joblib.load(\"./km_model.m\")  \n",
    "print(load)  "
   ]
  },
  {
   "cell_type": "code",
   "execution_count": null,
   "metadata": {
    "collapsed": true
   },
   "outputs": [],
   "source": []
  }
 ],
 "metadata": {
  "kernelspec": {
   "display_name": "Python 3",
   "language": "python",
   "name": "python3"
  },
  "language_info": {
   "codemirror_mode": {
    "name": "ipython",
    "version": 3
   },
   "file_extension": ".py",
   "mimetype": "text/x-python",
   "name": "python",
   "nbconvert_exporter": "python",
   "pygments_lexer": "ipython3",
   "version": "3.6.3"
  }
 },
 "nbformat": 4,
 "nbformat_minor": 2
}
