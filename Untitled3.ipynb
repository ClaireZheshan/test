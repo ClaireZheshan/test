{
 "cells": [
  {
   "cell_type": "code",
   "execution_count": 1,
   "metadata": {
    "collapsed": true
   },
   "outputs": [],
   "source": [
    "import scipy.io as sio\n",
    "from sklearn.cluster import KMeans\n",
    "import numpy as np\n",
    "import random\n",
    "import copy\n",
    "import matplotlib.pyplot as plt\n",
    "import operator\n",
    "\n",
    "def loaddata():  # 读取数据\n",
    "    file = '/Users/xiaozheshan/Downloads/GaussianData.mat'\n",
    "    file = '/Users/xiaozheshan/Downloads/ringData.mat'\n",
    "    data = sio.loadmat(file)\n",
    "    matrix = np.array(data['Dataset'])\n",
    "    return matrix\n",
    "def distance(p1,p2):  # 欧式距离\n",
    "    return  np.linalg.norm(p1-p2)\n",
    "def getWbyKNN(data,k):  # 利用KNN获得相似度矩阵\n",
    "    points_num = len(data)\n",
    "    print (points_num)"
   ]
  },
  {
   "cell_type": "code",
   "execution_count": null,
   "metadata": {
    "collapsed": true
   },
   "outputs": [],
   "source": []
  }
 ],
 "metadata": {
  "kernelspec": {
   "display_name": "Python 3",
   "language": "python",
   "name": "python3"
  },
  "language_info": {
   "codemirror_mode": {
    "name": "ipython",
    "version": 3
   },
   "file_extension": ".py",
   "mimetype": "text/x-python",
   "name": "python",
   "nbconvert_exporter": "python",
   "pygments_lexer": "ipython3",
   "version": "3.6.3"
  }
 },
 "nbformat": 4,
 "nbformat_minor": 2
}
